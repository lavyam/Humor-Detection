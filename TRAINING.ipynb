{
 "cells": [
  {
   "cell_type": "markdown",
   "id": "91df3012",
   "metadata": {},
   "source": [
    "# CS 505 FINAL PROJECT"
   ]
  },
  {
   "cell_type": "markdown",
   "id": "2516cd2b",
   "metadata": {},
   "source": [
    "### Importing Necessary Libraries"
   ]
  },
  {
   "cell_type": "code",
   "execution_count": 20,
   "id": "b1f0e2c2",
   "metadata": {},
   "outputs": [],
   "source": [
    "import pandas as pd\n",
    "import matplotlib.pyplot as plt\n",
    "import seaborn as sns\n",
    "import torch\n",
    "import torch.nn as nn\n",
    "from sklearn.model_selection import train_test_split\n",
    "from sklearn.metrics import classification_report\n",
    "import transformers\n",
    "from transformers import AutoModel, BertTokenizerFast\n",
    "from torch.utils.data import TensorDataset, DataLoader"
   ]
  },
  {
   "cell_type": "code",
   "execution_count": 9,
   "id": "697e6b41",
   "metadata": {},
   "outputs": [
    {
     "data": {
      "text/html": [
       "<div>\n",
       "<style scoped>\n",
       "    .dataframe tbody tr th:only-of-type {\n",
       "        vertical-align: middle;\n",
       "    }\n",
       "\n",
       "    .dataframe tbody tr th {\n",
       "        vertical-align: top;\n",
       "    }\n",
       "\n",
       "    .dataframe thead th {\n",
       "        text-align: right;\n",
       "    }\n",
       "</style>\n",
       "<table border=\"1\" class=\"dataframe\">\n",
       "  <thead>\n",
       "    <tr style=\"text-align: right;\">\n",
       "      <th></th>\n",
       "      <th>text</th>\n",
       "      <th>humor</th>\n",
       "    </tr>\n",
       "  </thead>\n",
       "  <tbody>\n",
       "    <tr>\n",
       "      <th>0</th>\n",
       "      <td>Joe biden rules out 2020 bid: 'guys, i'm not r...</td>\n",
       "      <td>False</td>\n",
       "    </tr>\n",
       "    <tr>\n",
       "      <th>1</th>\n",
       "      <td>Watch: darvish gave hitter whiplash with slow ...</td>\n",
       "      <td>False</td>\n",
       "    </tr>\n",
       "    <tr>\n",
       "      <th>2</th>\n",
       "      <td>What do you call a turtle without its shell? d...</td>\n",
       "      <td>True</td>\n",
       "    </tr>\n",
       "    <tr>\n",
       "      <th>3</th>\n",
       "      <td>5 reasons the 2016 election feels so personal</td>\n",
       "      <td>False</td>\n",
       "    </tr>\n",
       "    <tr>\n",
       "      <th>4</th>\n",
       "      <td>Pasco police shot mexican migrant from behind,...</td>\n",
       "      <td>False</td>\n",
       "    </tr>\n",
       "    <tr>\n",
       "      <th>...</th>\n",
       "      <td>...</td>\n",
       "      <td>...</td>\n",
       "    </tr>\n",
       "    <tr>\n",
       "      <th>159995</th>\n",
       "      <td>Watch muhammad ali pull the greatest prank on ...</td>\n",
       "      <td>False</td>\n",
       "    </tr>\n",
       "    <tr>\n",
       "      <th>159996</th>\n",
       "      <td>Some days the problem is i care too much... to...</td>\n",
       "      <td>True</td>\n",
       "    </tr>\n",
       "    <tr>\n",
       "      <th>159997</th>\n",
       "      <td>If someone doesn't realize their blinker is st...</td>\n",
       "      <td>True</td>\n",
       "    </tr>\n",
       "    <tr>\n",
       "      <th>159998</th>\n",
       "      <td>I'm going out with a girl i met online who's a...</td>\n",
       "      <td>True</td>\n",
       "    </tr>\n",
       "    <tr>\n",
       "      <th>159999</th>\n",
       "      <td>‘people who work in the system become desensit...</td>\n",
       "      <td>False</td>\n",
       "    </tr>\n",
       "  </tbody>\n",
       "</table>\n",
       "<p>160000 rows × 2 columns</p>\n",
       "</div>"
      ],
      "text/plain": [
       "                                                     text  humor\n",
       "0       Joe biden rules out 2020 bid: 'guys, i'm not r...  False\n",
       "1       Watch: darvish gave hitter whiplash with slow ...  False\n",
       "2       What do you call a turtle without its shell? d...   True\n",
       "3           5 reasons the 2016 election feels so personal  False\n",
       "4       Pasco police shot mexican migrant from behind,...  False\n",
       "...                                                   ...    ...\n",
       "159995  Watch muhammad ali pull the greatest prank on ...  False\n",
       "159996  Some days the problem is i care too much... to...   True\n",
       "159997  If someone doesn't realize their blinker is st...   True\n",
       "159998  I'm going out with a girl i met online who's a...   True\n",
       "159999  ‘people who work in the system become desensit...  False\n",
       "\n",
       "[160000 rows x 2 columns]"
      ]
     },
     "execution_count": 9,
     "metadata": {},
     "output_type": "execute_result"
    }
   ],
   "source": [
    "df = pd.read_csv('train.csv')\n",
    "df"
   ]
  },
  {
   "cell_type": "markdown",
   "id": "61a2e048",
   "metadata": {},
   "source": [
    "### Setting labels: True=1, False=0"
   ]
  },
  {
   "cell_type": "code",
   "execution_count": 10,
   "id": "76c0d0ee",
   "metadata": {},
   "outputs": [
    {
     "data": {
      "text/plain": [
       "array([False,  True])"
      ]
     },
     "execution_count": 10,
     "metadata": {},
     "output_type": "execute_result"
    }
   ],
   "source": [
    "df['humor'].unique()"
   ]
  },
  {
   "cell_type": "code",
   "execution_count": 11,
   "id": "6d1f0733",
   "metadata": {},
   "outputs": [
    {
     "data": {
      "text/plain": [
       "text     object\n",
       "humor      bool\n",
       "dtype: object"
      ]
     },
     "execution_count": 11,
     "metadata": {},
     "output_type": "execute_result"
    }
   ],
   "source": [
    "df.dtypes"
   ]
  },
  {
   "cell_type": "code",
   "execution_count": 12,
   "id": "84812ad9",
   "metadata": {},
   "outputs": [],
   "source": [
    "df['humor'] = df['humor'].astype(int)"
   ]
  },
  {
   "cell_type": "code",
   "execution_count": 13,
   "id": "b59804c1",
   "metadata": {
    "scrolled": true
   },
   "outputs": [
    {
     "data": {
      "text/html": [
       "<div>\n",
       "<style scoped>\n",
       "    .dataframe tbody tr th:only-of-type {\n",
       "        vertical-align: middle;\n",
       "    }\n",
       "\n",
       "    .dataframe tbody tr th {\n",
       "        vertical-align: top;\n",
       "    }\n",
       "\n",
       "    .dataframe thead th {\n",
       "        text-align: right;\n",
       "    }\n",
       "</style>\n",
       "<table border=\"1\" class=\"dataframe\">\n",
       "  <thead>\n",
       "    <tr style=\"text-align: right;\">\n",
       "      <th></th>\n",
       "      <th>text</th>\n",
       "      <th>humor</th>\n",
       "    </tr>\n",
       "  </thead>\n",
       "  <tbody>\n",
       "    <tr>\n",
       "      <th>0</th>\n",
       "      <td>Joe biden rules out 2020 bid: 'guys, i'm not r...</td>\n",
       "      <td>0</td>\n",
       "    </tr>\n",
       "    <tr>\n",
       "      <th>1</th>\n",
       "      <td>Watch: darvish gave hitter whiplash with slow ...</td>\n",
       "      <td>0</td>\n",
       "    </tr>\n",
       "    <tr>\n",
       "      <th>2</th>\n",
       "      <td>What do you call a turtle without its shell? d...</td>\n",
       "      <td>1</td>\n",
       "    </tr>\n",
       "    <tr>\n",
       "      <th>3</th>\n",
       "      <td>5 reasons the 2016 election feels so personal</td>\n",
       "      <td>0</td>\n",
       "    </tr>\n",
       "    <tr>\n",
       "      <th>4</th>\n",
       "      <td>Pasco police shot mexican migrant from behind,...</td>\n",
       "      <td>0</td>\n",
       "    </tr>\n",
       "    <tr>\n",
       "      <th>...</th>\n",
       "      <td>...</td>\n",
       "      <td>...</td>\n",
       "    </tr>\n",
       "    <tr>\n",
       "      <th>159995</th>\n",
       "      <td>Watch muhammad ali pull the greatest prank on ...</td>\n",
       "      <td>0</td>\n",
       "    </tr>\n",
       "    <tr>\n",
       "      <th>159996</th>\n",
       "      <td>Some days the problem is i care too much... to...</td>\n",
       "      <td>1</td>\n",
       "    </tr>\n",
       "    <tr>\n",
       "      <th>159997</th>\n",
       "      <td>If someone doesn't realize their blinker is st...</td>\n",
       "      <td>1</td>\n",
       "    </tr>\n",
       "    <tr>\n",
       "      <th>159998</th>\n",
       "      <td>I'm going out with a girl i met online who's a...</td>\n",
       "      <td>1</td>\n",
       "    </tr>\n",
       "    <tr>\n",
       "      <th>159999</th>\n",
       "      <td>‘people who work in the system become desensit...</td>\n",
       "      <td>0</td>\n",
       "    </tr>\n",
       "  </tbody>\n",
       "</table>\n",
       "<p>160000 rows × 2 columns</p>\n",
       "</div>"
      ],
      "text/plain": [
       "                                                     text  humor\n",
       "0       Joe biden rules out 2020 bid: 'guys, i'm not r...      0\n",
       "1       Watch: darvish gave hitter whiplash with slow ...      0\n",
       "2       What do you call a turtle without its shell? d...      1\n",
       "3           5 reasons the 2016 election feels so personal      0\n",
       "4       Pasco police shot mexican migrant from behind,...      0\n",
       "...                                                   ...    ...\n",
       "159995  Watch muhammad ali pull the greatest prank on ...      0\n",
       "159996  Some days the problem is i care too much... to...      1\n",
       "159997  If someone doesn't realize their blinker is st...      1\n",
       "159998  I'm going out with a girl i met online who's a...      1\n",
       "159999  ‘people who work in the system become desensit...      0\n",
       "\n",
       "[160000 rows x 2 columns]"
      ]
     },
     "execution_count": 13,
     "metadata": {},
     "output_type": "execute_result"
    }
   ],
   "source": [
    "df"
   ]
  },
  {
   "cell_type": "markdown",
   "id": "96725794",
   "metadata": {},
   "source": [
    "### Plot to see the distribution of humor and non-humor texts"
   ]
  },
  {
   "cell_type": "code",
   "execution_count": 14,
   "id": "ffeaa374",
   "metadata": {},
   "outputs": [
    {
     "data": {
      "image/png": "[encoded data removed]",
      "text/plain": [
       "<Figure size 640x480 with 1 Axes>"
      ]
     },
     "metadata": {},
     "output_type": "display_data"
    }
   ],
   "source": [
    "value_counts = df['humor'].value_counts()\n",
    "\n",
    "plt.bar(value_counts.index, value_counts.values)\n",
    "plt.xticks([0, 1])\n",
    "plt.xlabel('Values')\n",
    "plt.ylabel('Count')\n",
    "plt.title('Number of Zeros and Ones')\n",
    "plt.show()"
   ]
  },
  {
   "cell_type": "markdown",
   "id": "2dbac6ce",
   "metadata": {},
   "source": [
    "### Splitting Data into training, testing and validation sets"
   ]
  },
  {
   "cell_type": "code",
   "execution_count": 15,
   "id": "9ce6992b-d8e3-4279-a59b-f4b1c452db38",
   "metadata": {},
   "outputs": [],
   "source": [
    "train_text, val_text, train_labels, val_labels = train_test_split(df['text'], df['humor'], test_size=0.1)"
   ]
  },
  {
   "cell_type": "markdown",
   "id": "f23df9f1-1b75-4189-9b4e-636c8671e736",
   "metadata": {},
   "source": [
    "### Length Distribution"
   ]
  },
  {
   "cell_type": "code",
   "execution_count": 21,
   "id": "4ca8d543-64e9-4913-b5ba-10ba88d6912d",
   "metadata": {},
   "outputs": [
    {
     "data": {
      "text/plain": [
       "<Axes: xlabel='text', ylabel='Count'>"
      ]
     },
     "execution_count": 21,
     "metadata": {},
     "output_type": "execute_result"
    },
    {
     "data": {
      "image/png": "[encoded data removed]",
      "text/plain": [
       "<Figure size 640x480 with 1 Axes>"
      ]
     },
     "metadata": {},
     "output_type": "display_data"
    }
   ],
   "source": [
    "sns.histplot(train_text.apply(lambda x : len(x)))"
   ]
  },
  {
   "cell_type": "code",
   "execution_count": null,
   "id": "cd8742df-69e3-48d9-9f87-f55cd584bd5b",
   "metadata": {},
   "outputs": [],
   "source": []
  },
  {
   "cell_type": "markdown",
   "id": "9732d4b3",
   "metadata": {},
   "source": [
    "### Import BERT"
   ]
  },
  {
   "cell_type": "code",
   "execution_count": 24,
   "id": "044013f9",
   "metadata": {},
   "outputs": [],
   "source": [
    "\n",
    "tokenizer = BertTokenizerFast.from_pretrained('bert-base-uncased')\n"
   ]
  },
  {
   "cell_type": "markdown",
   "id": "1c05deff",
   "metadata": {},
   "source": [
    "### Padding/ Truncating sequences"
   ]
  },
  {
   "cell_type": "code",
   "execution_count": 25,
   "id": "311aa2a5",
   "metadata": {},
   "outputs": [],
   "source": [
    "train = tokenizer.batch_encode_plus(\n",
    "    train_text.tolist(),\n",
    "    padding='longest',\n",
    "    truncation=True\n",
    ")\n",
    "\n",
    "\n",
    "val = tokenizer.batch_encode_plus(\n",
    "    val_text.tolist(),\n",
    "    padding='longest',\n",
    "    truncation=True\n",
    ")"
   ]
  },
  {
   "cell_type": "code",
   "execution_count": null,
   "id": "329a60de-7ee2-4459-a58a-47e1aec111ae",
   "metadata": {},
   "outputs": [],
   "source": [
    "# test=tokenizer.batch_encode_plus(\n",
    "#     test_text.tolist(),\n",
    "#     padding='longest',\n",
    "#     truncation=True\n",
    "# )"
   ]
  },
  {
   "cell_type": "markdown",
   "id": "45c8b7a9",
   "metadata": {},
   "source": [
    "### Dataset and Data Loaders"
   ]
  },
  {
   "cell_type": "code",
   "execution_count": 26,
   "id": "8970aec4",
   "metadata": {},
   "outputs": [],
   "source": [
    "train_seq = torch.tensor(train['input_ids'])\n",
    "train_mask = torch.tensor(train['attention_mask'])\n",
    "train_y = torch.tensor(train_labels.tolist())\n",
    "\n",
    "val_seq = torch.tensor(val['input_ids'])\n",
    "val_mask = torch.tensor(val['attention_mask'])\n",
    "val_y = torch.tensor(val_labels.tolist())\n",
    "\n"
   ]
  },
  {
   "cell_type": "code",
   "execution_count": null,
   "id": "5a78905d-e64b-4da1-907e-6d5f3232d44d",
   "metadata": {},
   "outputs": [],
   "source": [
    "# test_seq = torch.tensor(test['input_ids'])\n",
    "# test_mask = torch.tensor(test['attention_mask'])\n",
    "# test_y = torch.tensor(test_labels.tolist())"
   ]
  },
  {
   "cell_type": "code",
   "execution_count": 27,
   "id": "fd5437c8",
   "metadata": {},
   "outputs": [],
   "source": [
    "batch_size = 64\n",
    "\n",
    "train_ds = TensorDataset(train_seq, train_mask, train_y)\n",
    "train_dataloader =   DataLoader(train_ds, batch_size = batch_size, shuffle = False)\n",
    "\n",
    "\n",
    "val_ds = TensorDataset(val_seq, val_mask, val_y)\n",
    "val_dataloader =  DataLoader(val_ds, batch_size = batch_size, shuffle = False)"
   ]
  },
  {
   "cell_type": "code",
   "execution_count": null,
   "id": "d85d8ea9-10a6-44ce-8b9c-e6ee9872a34a",
   "metadata": {},
   "outputs": [],
   "source": [
    "# test_ds=TensorDataset(test_seq, test_mask, test_y)\n",
    "# test_dataloader =   DataLoader(test_ds, batch_size=batch_size, shuffle=False)\n"
   ]
  },
  {
   "cell_type": "code",
   "execution_count": 29,
   "id": "5339702d",
   "metadata": {},
   "outputs": [
    {
     "name": "stderr",
     "output_type": "stream",
     "text": [
      "Some weights of BertForSequenceClassification were not initialized from the model checkpoint at bert-base-uncased and are newly initialized: ['classifier.weight', 'classifier.bias']\n",
      "You should probably TRAIN this model on a down-stream task to be able to use it for predictions and inference.\n"
     ]
    }
   ],
   "source": [
    "from transformers import BertForSequenceClassification\n",
    "\n",
    "model = BertForSequenceClassification.from_pretrained('bert-base-uncased', num_labels=2)\n"
   ]
  },
  {
   "cell_type": "code",
   "execution_count": 30,
   "id": "7a3cac4e",
   "metadata": {},
   "outputs": [],
   "source": [
    "device = torch.device(\"cuda\" if torch.cuda.is_available() else \"cpu\")\n",
    "\n",
    "model = model.to(device)"
   ]
  },
  {
   "cell_type": "code",
   "execution_count": 32,
   "id": "50a76f24",
   "metadata": {},
   "outputs": [
    {
     "name": "stderr",
     "output_type": "stream",
     "text": [
      "100%|██████████| 2250/2250 [06:13<00:00,  6.03it/s]\n"
     ]
    },
    {
     "name": "stdout",
     "output_type": "stream",
     "text": [
      "Epoch 1, Train Loss: 0.05193868237775233, Val Loss: 0.03209220116445795, Val Accuracy: 0.9883125\n"
     ]
    },
    {
     "name": "stderr",
     "output_type": "stream",
     "text": [
      "  8%|▊         | 187/2250 [00:31<05:42,  6.02it/s]\n",
      "\n",
      "KeyboardInterrupt\n",
      "\n"
     ]
    }
   ],
   "source": [
    "from tqdm import tqdm\n",
    "from torch.optim import AdamW\n",
    "\n",
    "optimizer = AdamW(model.parameters(), lr=2e-5)\n",
    "loss_function = nn.CrossEntropyLoss()\n",
    "\n",
    "def train(model, dataloader):\n",
    "    model.train()\n",
    "    total_loss = 0\n",
    "    for batch in tqdm(dataloader, total=len(dataloader)):\n",
    "        batch = [r.to(device) for r in batch]\n",
    "        inputs, masks, labels = batch\n",
    "        model.zero_grad()\n",
    "\n",
    "        outputs = model(inputs, attention_mask=masks)\n",
    "        logits = outputs.logits\n",
    "        loss = loss_function(logits, labels)\n",
    "        total_loss += loss.item()\n",
    "\n",
    "        loss.backward()\n",
    "        optimizer.step()\n",
    "    \n",
    "    return total_loss / len(dataloader)\n",
    "    \n",
    "def evaluate(model, dataloader):\n",
    "    model.eval()\n",
    "    total_loss = 0\n",
    "    correct_predictions = 0\n",
    "    total_predictions = 0\n",
    "\n",
    "    with torch.no_grad():\n",
    "        for batch in dataloader:\n",
    "            batch = [r.to(device) for r in batch]\n",
    "            inputs, masks, labels = batch\n",
    "\n",
    "            outputs = model(inputs, attention_mask=masks)\n",
    "            logits = outputs.logits\n",
    "            loss = loss_function(logits, labels)\n",
    "            total_loss += loss.item()\n",
    "\n",
    "            predictions = torch.argmax(logits, dim=1)\n",
    "            correct_predictions += (predictions == labels).sum().item()\n",
    "            total_predictions += labels.size(0)\n",
    "\n",
    "    accuracy = correct_predictions / total_predictions\n",
    "    average_loss = total_loss / len(dataloader)\n",
    "    return average_loss, accuracy\n",
    "\n",
    "epochs = 5\n",
    "\n",
    "for epoch in range(epochs):\n",
    "    train_loss = train(model, train_dataloader)\n",
    "    val_loss, val_accuracy = evaluate(model, val_dataloader)\n",
    "    print(f'Epoch {epoch+1}, Train Loss: {train_loss}, Val Loss: {val_loss}, Val Accuracy: {val_accuracy}')\n",
    "    "
   ]
  },
  {
   "cell_type": "code",
   "execution_count": 34,
   "id": "c514f760-cf35-41fa-9193-c06f34c688c8",
   "metadata": {},
   "outputs": [],
   "source": [
    "MODEL_PATH = 'models/model1.pt'\n",
    "\n",
    "torch.save(model.state_dict(), MODEL_PATH)"
   ]
  },
  {
   "cell_type": "code",
   "execution_count": 35,
   "id": "c49ad59d",
   "metadata": {},
   "outputs": [],
   "source": [
    "# def evaluate_accuracy(model, dataloader):\n",
    "#     model.eval()\n",
    "#     correct_predictions = 0\n",
    "#     total_predictions = 0\n",
    "\n",
    "#     with torch.no_grad():\n",
    "#         for batch in dataloader:\n",
    "#             batch = [r.to(device) for r in batch]\n",
    "#             inputs, masks, labels = batch\n",
    "\n",
    "#             outputs = model(inputs, attention_mask=masks)\n",
    "#             logits = outputs.logits\n",
    "#             predictions = torch.argmax(logits, dim=1)\n",
    "\n",
    "#             correct_predictions += (predictions == labels).sum().item()\n",
    "#             total_predictions += labels.size(0)\n",
    "\n",
    "#     accuracy = correct_predictions / total_predictions\n",
    "#     return accuracy\n",
    "\n",
    "# # Calculate test accuracy\n",
    "# test_accuracy = evaluate_accuracy(model, test_dataloader)\n",
    "# print(f'Test Accuracy: {test_accuracy}')\n"
   ]
  },
  {
   "cell_type": "code",
   "execution_count": null,
   "id": "b0133f4d-fdbe-4e6a-9e27-bd1c314f6827",
   "metadata": {},
   "outputs": [],
   "source": []
  },
  {
   "cell_type": "markdown",
   "id": "0abe585d-711c-4a0c-9c6c-3b86d8ea3684",
   "metadata": {},
   "source": [
    "# TESTING SCRIPT"
   ]
  },
  {
   "cell_type": "code",
   "execution_count": 64,
   "id": "38b288a0-681b-427b-b5b3-38464bbc6dbb",
   "metadata": {},
   "outputs": [
    {
     "name": "stderr",
     "output_type": "stream",
     "text": [
      "Some weights of BertForSequenceClassification were not initialized from the model checkpoint at bert-base-uncased and are newly initialized: ['classifier.weight', 'classifier.bias']\n",
      "You should probably TRAIN this model on a down-stream task to be able to use it for predictions and inference.\n"
     ]
    }
   ],
   "source": [
    "test_df = pd.read_csv('dev.csv')\n",
    "test_df['humor'] = test_df['humor'].astype(int)\n",
    "\n",
    "test_text = test_df.text\n",
    "test_labels = test_df['humor'].values\n",
    "\n",
    "tokenizer = BertTokenizerFast.from_pretrained('bert-base-uncased')\n",
    "\n",
    "test=tokenizer.batch_encode_plus(\n",
    "    test_text.tolist(),\n",
    "    padding='longest',\n",
    "    truncation=True\n",
    ")\n",
    "\n",
    "test_seq = torch.tensor(test['input_ids'])\n",
    "test_mask = torch.tensor(test['attention_mask'])\n",
    "test_y = torch.tensor(test_labels.tolist())\n",
    "\n",
    "test_ds = TensorDataset(test_seq, test_mask, test_y)\n",
    "\n",
    "test_dataloader = DataLoader(test_ds, batch_size=64, shuffle=False)\n",
    "\n",
    "\n",
    "model = BertForSequenceClassification.from_pretrained('bert-base-uncased', num_labels=2)\n",
    "\n",
    "device = torch.device(\"cuda\" if torch.cuda.is_available() else \"cpu\")\n",
    "\n",
    "model = model.to(device)"
   ]
  },
  {
   "cell_type": "code",
   "execution_count": 65,
   "id": "cd65073f-b698-4c49-82c5-14b3d0553d57",
   "metadata": {},
   "outputs": [
    {
     "data": {
      "text/plain": [
       "BertForSequenceClassification(\n",
       "  (bert): BertModel(\n",
       "    (embeddings): BertEmbeddings(\n",
       "      (word_embeddings): Embedding(30522, 768, padding_idx=0)\n",
       "      (position_embeddings): Embedding(512, 768)\n",
       "      (token_type_embeddings): Embedding(2, 768)\n",
       "      (LayerNorm): LayerNorm((768,), eps=1e-12, elementwise_affine=True)\n",
       "      (dropout): Dropout(p=0.1, inplace=False)\n",
       "    )\n",
       "    (encoder): BertEncoder(\n",
       "      (layer): ModuleList(\n",
       "        (0-11): 12 x BertLayer(\n",
       "          (attention): BertAttention(\n",
       "            (self): BertSelfAttention(\n",
       "              (query): Linear(in_features=768, out_features=768, bias=True)\n",
       "              (key): Linear(in_features=768, out_features=768, bias=True)\n",
       "              (value): Linear(in_features=768, out_features=768, bias=True)\n",
       "              (dropout): Dropout(p=0.1, inplace=False)\n",
       "            )\n",
       "            (output): BertSelfOutput(\n",
       "              (dense): Linear(in_features=768, out_features=768, bias=True)\n",
       "              (LayerNorm): LayerNorm((768,), eps=1e-12, elementwise_affine=True)\n",
       "              (dropout): Dropout(p=0.1, inplace=False)\n",
       "            )\n",
       "          )\n",
       "          (intermediate): BertIntermediate(\n",
       "            (dense): Linear(in_features=768, out_features=3072, bias=True)\n",
       "            (intermediate_act_fn): GELUActivation()\n",
       "          )\n",
       "          (output): BertOutput(\n",
       "            (dense): Linear(in_features=3072, out_features=768, bias=True)\n",
       "            (LayerNorm): LayerNorm((768,), eps=1e-12, elementwise_affine=True)\n",
       "            (dropout): Dropout(p=0.1, inplace=False)\n",
       "          )\n",
       "        )\n",
       "      )\n",
       "    )\n",
       "    (pooler): BertPooler(\n",
       "      (dense): Linear(in_features=768, out_features=768, bias=True)\n",
       "      (activation): Tanh()\n",
       "    )\n",
       "  )\n",
       "  (dropout): Dropout(p=0.1, inplace=False)\n",
       "  (classifier): Linear(in_features=768, out_features=2, bias=True)\n",
       ")"
      ]
     },
     "execution_count": 65,
     "metadata": {},
     "output_type": "execute_result"
    }
   ],
   "source": [
    "MODEL_PATH = 'models/model1.pt'\n",
    "\n",
    "model.load_state_dict(torch.load(MODEL_PATH))\n",
    "model.eval()"
   ]
  },
  {
   "cell_type": "code",
   "execution_count": 40,
   "id": "b72e3a72-327b-4882-b6ed-8d14796660ba",
   "metadata": {},
   "outputs": [
    {
     "name": "stdout",
     "output_type": "stream",
     "text": [
      "Test Accuracy: 0.98695\n"
     ]
    }
   ],
   "source": [
    "def evaluate_accuracy(model, dataloader):\n",
    "    model.eval()\n",
    "    correct_predictions = 0\n",
    "    total_predictions = 0\n",
    "\n",
    "    with torch.no_grad():\n",
    "        for batch in dataloader:\n",
    "            batch = [r.to(device) for r in batch]\n",
    "            inputs, masks, labels = batch\n",
    "\n",
    "            outputs = model(inputs, attention_mask=masks)\n",
    "            logits = outputs.logits\n",
    "            predictions = torch.argmax(logits, dim=1)\n",
    "\n",
    "            correct_predictions += (predictions == labels).sum().item()\n",
    "            total_predictions += labels.size(0)\n",
    "\n",
    "    accuracy = correct_predictions / total_predictions\n",
    "    return accuracy\n",
    "\n",
    "# Calculate test accuracy\n",
    "test_accuracy = evaluate_accuracy(model, test_dataloader)\n",
    "print(f'Test Accuracy: {test_accuracy}')\n"
   ]
  },
  {
   "cell_type": "code",
   "execution_count": 67,
   "id": "2deec2c6-5e8d-422c-8f77-19858fefe222",
   "metadata": {},
   "outputs": [
    {
     "name": "stdout",
     "output_type": "stream",
     "text": [
      "Test Accuracy: 0.98695\n",
      "              precision    recall  f1-score   support\n",
      "\n",
      "       Humor       0.98      0.99      0.99     19918\n",
      "         Not       0.99      0.98      0.99     20082\n",
      "\n",
      "    accuracy                           0.99     40000\n",
      "   macro avg       0.99      0.99      0.99     40000\n",
      "weighted avg       0.99      0.99      0.99     40000\n",
      "\n"
     ]
    }
   ],
   "source": [
    "\n",
    "def evaluate_model(model, dataloader):\n",
    "    model.eval()\n",
    "    correct_predictions = 0\n",
    "    total_predictions = 0\n",
    "\n",
    "    all_labels = []\n",
    "    all_predictions = []\n",
    "\n",
    "    with torch.no_grad():\n",
    "        for batch in dataloader:\n",
    "            batch = [r.to(device) for r in batch]\n",
    "            inputs, masks, labels = batch\n",
    "\n",
    "            outputs = model(inputs, attention_mask=masks)\n",
    "            logits = outputs.logits\n",
    "            predictions = torch.argmax(logits, dim=1)\n",
    "\n",
    "            correct_predictions += (predictions == labels).sum().item()\n",
    "            total_predictions += labels.size(0)\n",
    "\n",
    "            all_labels.extend(labels.cpu().numpy())\n",
    "            all_predictions.extend(predictions.cpu().numpy())\n",
    "\n",
    "    accuracy = correct_predictions / total_predictions\n",
    "    report = classification_report(all_labels, all_predictions, target_names=['Humor', 'Not'])  # replace YOUR_TARGET_NAMES with the list of class names\n",
    "    return accuracy, report\n",
    "\n",
    "# Calculate test accuracy and classification report\n",
    "test_accuracy, test_report = evaluate_model(model, test_dataloader)\n",
    "print(f'Test Accuracy: {test_accuracy}')\n",
    "print(test_report)\n"
   ]
  },
  {
   "cell_type": "code",
   "execution_count": null,
   "id": "13b2c4c9-c852-4b8e-adb5-0298e2e491d9",
   "metadata": {},
   "outputs": [],
   "source": []
  },
  {
   "cell_type": "markdown",
   "id": "e622327f-b45d-4956-81d3-6b2dc0024772",
   "metadata": {},
   "source": [
    "# INFERENCE SCRIPT"
   ]
  },
  {
   "cell_type": "code",
   "execution_count": 41,
   "id": "02f7b0e7-12ee-4c9c-aa95-016a8470c381",
   "metadata": {},
   "outputs": [
    {
     "name": "stderr",
     "output_type": "stream",
     "text": [
      "Some weights of BertForSequenceClassification were not initialized from the model checkpoint at bert-base-uncased and are newly initialized: ['classifier.weight', 'classifier.bias']\n",
      "You should probably TRAIN this model on a down-stream task to be able to use it for predictions and inference.\n"
     ]
    }
   ],
   "source": [
    "test_df = pd.read_csv('test.csv')\n",
    "test_text = test_df.text\n",
    "\n",
    "tokenizer = BertTokenizerFast.from_pretrained('bert-base-uncased')\n",
    "\n",
    "test=tokenizer.batch_encode_plus(\n",
    "    test_text.tolist(),\n",
    "    padding='longest',\n",
    "    truncation=True\n",
    ")\n",
    "\n",
    "test_seq = torch.tensor(test['input_ids'])\n",
    "test_mask = torch.tensor(test['attention_mask'])\n",
    "\n",
    "test_ds = TensorDataset(test_seq, test_mask)\n",
    "\n",
    "test_dataloader = DataLoader(test_ds, batch_size=64, shuffle=False)\n",
    "\n",
    "\n",
    "model = BertForSequenceClassification.from_pretrained('bert-base-uncased', num_labels=2)\n",
    "\n",
    "device = torch.device(\"cuda\" if torch.cuda.is_available() else \"cpu\")\n",
    "\n",
    "model = model.to(device)"
   ]
  },
  {
   "cell_type": "code",
   "execution_count": 42,
   "id": "689fcef9-9be8-471e-adb9-679d2674a50e",
   "metadata": {},
   "outputs": [
    {
     "data": {
      "text/plain": [
       "BertForSequenceClassification(\n",
       "  (bert): BertModel(\n",
       "    (embeddings): BertEmbeddings(\n",
       "      (word_embeddings): Embedding(30522, 768, padding_idx=0)\n",
       "      (position_embeddings): Embedding(512, 768)\n",
       "      (token_type_embeddings): Embedding(2, 768)\n",
       "      (LayerNorm): LayerNorm((768,), eps=1e-12, elementwise_affine=True)\n",
       "      (dropout): Dropout(p=0.1, inplace=False)\n",
       "    )\n",
       "    (encoder): BertEncoder(\n",
       "      (layer): ModuleList(\n",
       "        (0-11): 12 x BertLayer(\n",
       "          (attention): BertAttention(\n",
       "            (self): BertSelfAttention(\n",
       "              (query): Linear(in_features=768, out_features=768, bias=True)\n",
       "              (key): Linear(in_features=768, out_features=768, bias=True)\n",
       "              (value): Linear(in_features=768, out_features=768, bias=True)\n",
       "              (dropout): Dropout(p=0.1, inplace=False)\n",
       "            )\n",
       "            (output): BertSelfOutput(\n",
       "              (dense): Linear(in_features=768, out_features=768, bias=True)\n",
       "              (LayerNorm): LayerNorm((768,), eps=1e-12, elementwise_affine=True)\n",
       "              (dropout): Dropout(p=0.1, inplace=False)\n",
       "            )\n",
       "          )\n",
       "          (intermediate): BertIntermediate(\n",
       "            (dense): Linear(in_features=768, out_features=3072, bias=True)\n",
       "            (intermediate_act_fn): GELUActivation()\n",
       "          )\n",
       "          (output): BertOutput(\n",
       "            (dense): Linear(in_features=3072, out_features=768, bias=True)\n",
       "            (LayerNorm): LayerNorm((768,), eps=1e-12, elementwise_affine=True)\n",
       "            (dropout): Dropout(p=0.1, inplace=False)\n",
       "          )\n",
       "        )\n",
       "      )\n",
       "    )\n",
       "    (pooler): BertPooler(\n",
       "      (dense): Linear(in_features=768, out_features=768, bias=True)\n",
       "      (activation): Tanh()\n",
       "    )\n",
       "  )\n",
       "  (dropout): Dropout(p=0.1, inplace=False)\n",
       "  (classifier): Linear(in_features=768, out_features=2, bias=True)\n",
       ")"
      ]
     },
     "execution_count": 42,
     "metadata": {},
     "output_type": "execute_result"
    }
   ],
   "source": [
    "MODEL_PATH = 'models/model1.pt'\n",
    "\n",
    "model.load_state_dict(torch.load(MODEL_PATH))\n",
    "model.eval()"
   ]
  },
  {
   "cell_type": "code",
   "execution_count": 46,
   "id": "fe4facd5",
   "metadata": {},
   "outputs": [],
   "source": [
    "\n",
    "def return_predictions(model, dataloader):\n",
    "    model.eval()\n",
    "    \n",
    "    predictions = []\n",
    "    \n",
    "    with torch.no_grad():\n",
    "        for batch in dataloader:\n",
    "            batch = [r.to(device) for r in batch]\n",
    "            inputs, masks = batch\n",
    "    \n",
    "            outputs = model(inputs, attention_mask = masks)\n",
    "            logits = outputs.logits\n",
    "            predictions.extend([x.item() for x in torch.argmax(logits, dim=1)])\n",
    "            \n",
    "    return predictions\n"
   ]
  },
  {
   "cell_type": "code",
   "execution_count": 48,
   "id": "a5e99062-88ee-4d57-89f1-7bcd2ad6d187",
   "metadata": {},
   "outputs": [],
   "source": [
    "predictions = return_predictions(model, test_dataloader)"
   ]
  },
  {
   "cell_type": "code",
   "execution_count": 49,
   "id": "946a2e32-5a91-4e94-9c75-3062c0946ea1",
   "metadata": {},
   "outputs": [
    {
     "data": {
      "text/plain": [
       "[True, True, True, True, False]"
      ]
     },
     "execution_count": 49,
     "metadata": {},
     "output_type": "execute_result"
    }
   ],
   "source": [
    "predictions = list(map(lambda x : True if x == 1 else False, predictions))\n",
    "predictions[:5]"
   ]
  },
  {
   "cell_type": "code",
   "execution_count": null,
   "id": "5e6a7e05-cc5b-4ba2-91f3-a40a78eb52fa",
   "metadata": {},
   "outputs": [],
   "source": [
    "################### THE END ################################"
   ]
  },
  {
   "cell_type": "code",
   "execution_count": null,
   "id": "e296aa39-de94-4174-918f-0c237cf8c79a",
   "metadata": {},
   "outputs": [],
   "source": []
  },
  {
   "cell_type": "code",
   "execution_count": 50,
   "id": "deb49a73-f027-4ef2-981e-6397c8981647",
   "metadata": {},
   "outputs": [],
   "source": [
    "#### Getting Classification report for the above test file since the true labels for the same are present in the dev file\n",
    "\n",
    "dev_df = pd.read_csv('dev.csv')\n",
    "\n",
    "true_labels = dev_df['humor'].values"
   ]
  },
  {
   "cell_type": "code",
   "execution_count": 63,
   "id": "326d45aa-fc9c-4fb2-8ebc-f32cb04ea44d",
   "metadata": {},
   "outputs": [
    {
     "name": "stdout",
     "output_type": "stream",
     "text": [
      "              precision    recall  f1-score   support\n",
      "\n",
      "       False       0.98      0.99      0.99     19918\n",
      "        True       0.99      0.98      0.99     20082\n",
      "\n",
      "    accuracy                           0.99     40000\n",
      "   macro avg       0.99      0.99      0.99     40000\n",
      "weighted avg       0.99      0.99      0.99     40000\n",
      "\n"
     ]
    }
   ],
   "source": [
    "import numpy as np\n",
    "\n",
    "print(classification_report(true_labels, predictions))"
   ]
  },
  {
   "cell_type": "code",
   "execution_count": null,
   "id": "0a642503-fb5d-4177-87ef-977a7855ef75",
   "metadata": {},
   "outputs": [],
   "source": []
  }
 ],
 "metadata": {
  "kernelspec": {
   "display_name": "Python 3 (ipykernel)",
   "language": "python",
   "name": "python3"
  },
  "language_info": {
   "codemirror_mode": {
    "name": "ipython",
    "version": 3
   },
   "file_extension": ".py",
   "mimetype": "text/x-python",
   "name": "python",
   "nbconvert_exporter": "python",
   "pygments_lexer": "ipython3",
   "version": "3.9.18"
  }
 },
 "nbformat": 4,
 "nbformat_minor": 5
}
