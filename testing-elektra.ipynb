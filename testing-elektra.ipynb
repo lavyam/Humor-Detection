{
 "cells": [
  {
   "cell_type": "markdown",
   "id": "02646b46",
   "metadata": {},
   "source": [
    "# CS 505 FINAL PROJECT"
   ]
  },
  {
   "cell_type": "markdown",
   "id": "7b53d4b0",
   "metadata": {},
   "source": [
    "### Importing Necessary Libraries"
   ]
  },
  {
   "cell_type": "code",
   "execution_count": 1,
   "id": "5ed011f2",
   "metadata": {},
   "outputs": [],
   "source": [
    "import pandas as pd\n",
    "import matplotlib.pyplot as plt\n",
    "import seaborn as sns\n",
    "import torch\n",
    "import torch.nn as nn\n",
    "from sklearn.model_selection import train_test_split\n",
    "from sklearn.metrics import classification_report\n",
    "import transformers\n",
    "from transformers import AutoModel, BertTokenizerFast\n",
    "from torch.utils.data import TensorDataset, DataLoader"
   ]
  },
  {
   "cell_type": "code",
   "execution_count": 2,
   "id": "184dfacc",
   "metadata": {},
   "outputs": [
    {
     "data": {
      "text/html": [
       "<div>\n",
       "<style scoped>\n",
       "    .dataframe tbody tr th:only-of-type {\n",
       "        vertical-align: middle;\n",
       "    }\n",
       "\n",
       "    .dataframe tbody tr th {\n",
       "        vertical-align: top;\n",
       "    }\n",
       "\n",
       "    .dataframe thead th {\n",
       "        text-align: right;\n",
       "    }\n",
       "</style>\n",
       "<table border=\"1\" class=\"dataframe\">\n",
       "  <thead>\n",
       "    <tr style=\"text-align: right;\">\n",
       "      <th></th>\n",
       "      <th>text</th>\n",
       "      <th>humor</th>\n",
       "    </tr>\n",
       "  </thead>\n",
       "  <tbody>\n",
       "    <tr>\n",
       "      <th>0</th>\n",
       "      <td>Joe biden rules out 2020 bid: 'guys, i'm not r...</td>\n",
       "      <td>False</td>\n",
       "    </tr>\n",
       "    <tr>\n",
       "      <th>1</th>\n",
       "      <td>Watch: darvish gave hitter whiplash with slow ...</td>\n",
       "      <td>False</td>\n",
       "    </tr>\n",
       "    <tr>\n",
       "      <th>2</th>\n",
       "      <td>What do you call a turtle without its shell? d...</td>\n",
       "      <td>True</td>\n",
       "    </tr>\n",
       "    <tr>\n",
       "      <th>3</th>\n",
       "      <td>5 reasons the 2016 election feels so personal</td>\n",
       "      <td>False</td>\n",
       "    </tr>\n",
       "    <tr>\n",
       "      <th>4</th>\n",
       "      <td>Pasco police shot mexican migrant from behind,...</td>\n",
       "      <td>False</td>\n",
       "    </tr>\n",
       "    <tr>\n",
       "      <th>...</th>\n",
       "      <td>...</td>\n",
       "      <td>...</td>\n",
       "    </tr>\n",
       "    <tr>\n",
       "      <th>159995</th>\n",
       "      <td>Watch muhammad ali pull the greatest prank on ...</td>\n",
       "      <td>False</td>\n",
       "    </tr>\n",
       "    <tr>\n",
       "      <th>159996</th>\n",
       "      <td>Some days the problem is i care too much... to...</td>\n",
       "      <td>True</td>\n",
       "    </tr>\n",
       "    <tr>\n",
       "      <th>159997</th>\n",
       "      <td>If someone doesn't realize their blinker is st...</td>\n",
       "      <td>True</td>\n",
       "    </tr>\n",
       "    <tr>\n",
       "      <th>159998</th>\n",
       "      <td>I'm going out with a girl i met online who's a...</td>\n",
       "      <td>True</td>\n",
       "    </tr>\n",
       "    <tr>\n",
       "      <th>159999</th>\n",
       "      <td>‘people who work in the system become desensit...</td>\n",
       "      <td>False</td>\n",
       "    </tr>\n",
       "  </tbody>\n",
       "</table>\n",
       "<p>160000 rows × 2 columns</p>\n",
       "</div>"
      ],
      "text/plain": [
       "                                                     text  humor\n",
       "0       Joe biden rules out 2020 bid: 'guys, i'm not r...  False\n",
       "1       Watch: darvish gave hitter whiplash with slow ...  False\n",
       "2       What do you call a turtle without its shell? d...   True\n",
       "3           5 reasons the 2016 election feels so personal  False\n",
       "4       Pasco police shot mexican migrant from behind,...  False\n",
       "...                                                   ...    ...\n",
       "159995  Watch muhammad ali pull the greatest prank on ...  False\n",
       "159996  Some days the problem is i care too much... to...   True\n",
       "159997  If someone doesn't realize their blinker is st...   True\n",
       "159998  I'm going out with a girl i met online who's a...   True\n",
       "159999  ‘people who work in the system become desensit...  False\n",
       "\n",
       "[160000 rows x 2 columns]"
      ]
     },
     "execution_count": 2,
     "metadata": {},
     "output_type": "execute_result"
    }
   ],
   "source": [
    "df = pd.read_csv('train.csv')\n",
    "df"
   ]
  },
  {
   "cell_type": "markdown",
   "id": "e12f2905",
   "metadata": {},
   "source": [
    "### Setting labels: True=1, False=0"
   ]
  },
  {
   "cell_type": "code",
   "execution_count": 3,
   "id": "6d8b7045",
   "metadata": {},
   "outputs": [
    {
     "data": {
      "text/plain": [
       "array([False,  True])"
      ]
     },
     "execution_count": 3,
     "metadata": {},
     "output_type": "execute_result"
    }
   ],
   "source": [
    "df['humor'].unique()"
   ]
  },
  {
   "cell_type": "code",
   "execution_count": 4,
   "id": "c15270e4",
   "metadata": {},
   "outputs": [
    {
     "data": {
      "text/plain": [
       "text     object\n",
       "humor      bool\n",
       "dtype: object"
      ]
     },
     "execution_count": 4,
     "metadata": {},
     "output_type": "execute_result"
    }
   ],
   "source": [
    "df.dtypes"
   ]
  },
  {
   "cell_type": "code",
   "execution_count": 5,
   "id": "ffbc242e",
   "metadata": {},
   "outputs": [],
   "source": [
    "df['humor'] = df['humor'].astype(int)"
   ]
  },
  {
   "cell_type": "code",
   "execution_count": 6,
   "id": "80e442ed",
   "metadata": {
    "scrolled": true
   },
   "outputs": [
    {
     "data": {
      "text/html": [
       "<div>\n",
       "<style scoped>\n",
       "    .dataframe tbody tr th:only-of-type {\n",
       "        vertical-align: middle;\n",
       "    }\n",
       "\n",
       "    .dataframe tbody tr th {\n",
       "        vertical-align: top;\n",
       "    }\n",
       "\n",
       "    .dataframe thead th {\n",
       "        text-align: right;\n",
       "    }\n",
       "</style>\n",
       "<table border=\"1\" class=\"dataframe\">\n",
       "  <thead>\n",
       "    <tr style=\"text-align: right;\">\n",
       "      <th></th>\n",
       "      <th>text</th>\n",
       "      <th>humor</th>\n",
       "    </tr>\n",
       "  </thead>\n",
       "  <tbody>\n",
       "    <tr>\n",
       "      <th>0</th>\n",
       "      <td>Joe biden rules out 2020 bid: 'guys, i'm not r...</td>\n",
       "      <td>0</td>\n",
       "    </tr>\n",
       "    <tr>\n",
       "      <th>1</th>\n",
       "      <td>Watch: darvish gave hitter whiplash with slow ...</td>\n",
       "      <td>0</td>\n",
       "    </tr>\n",
       "    <tr>\n",
       "      <th>2</th>\n",
       "      <td>What do you call a turtle without its shell? d...</td>\n",
       "      <td>1</td>\n",
       "    </tr>\n",
       "    <tr>\n",
       "      <th>3</th>\n",
       "      <td>5 reasons the 2016 election feels so personal</td>\n",
       "      <td>0</td>\n",
       "    </tr>\n",
       "    <tr>\n",
       "      <th>4</th>\n",
       "      <td>Pasco police shot mexican migrant from behind,...</td>\n",
       "      <td>0</td>\n",
       "    </tr>\n",
       "    <tr>\n",
       "      <th>...</th>\n",
       "      <td>...</td>\n",
       "      <td>...</td>\n",
       "    </tr>\n",
       "    <tr>\n",
       "      <th>159995</th>\n",
       "      <td>Watch muhammad ali pull the greatest prank on ...</td>\n",
       "      <td>0</td>\n",
       "    </tr>\n",
       "    <tr>\n",
       "      <th>159996</th>\n",
       "      <td>Some days the problem is i care too much... to...</td>\n",
       "      <td>1</td>\n",
       "    </tr>\n",
       "    <tr>\n",
       "      <th>159997</th>\n",
       "      <td>If someone doesn't realize their blinker is st...</td>\n",
       "      <td>1</td>\n",
       "    </tr>\n",
       "    <tr>\n",
       "      <th>159998</th>\n",
       "      <td>I'm going out with a girl i met online who's a...</td>\n",
       "      <td>1</td>\n",
       "    </tr>\n",
       "    <tr>\n",
       "      <th>159999</th>\n",
       "      <td>‘people who work in the system become desensit...</td>\n",
       "      <td>0</td>\n",
       "    </tr>\n",
       "  </tbody>\n",
       "</table>\n",
       "<p>160000 rows × 2 columns</p>\n",
       "</div>"
      ],
      "text/plain": [
       "                                                     text  humor\n",
       "0       Joe biden rules out 2020 bid: 'guys, i'm not r...      0\n",
       "1       Watch: darvish gave hitter whiplash with slow ...      0\n",
       "2       What do you call a turtle without its shell? d...      1\n",
       "3           5 reasons the 2016 election feels so personal      0\n",
       "4       Pasco police shot mexican migrant from behind,...      0\n",
       "...                                                   ...    ...\n",
       "159995  Watch muhammad ali pull the greatest prank on ...      0\n",
       "159996  Some days the problem is i care too much... to...      1\n",
       "159997  If someone doesn't realize their blinker is st...      1\n",
       "159998  I'm going out with a girl i met online who's a...      1\n",
       "159999  ‘people who work in the system become desensit...      0\n",
       "\n",
       "[160000 rows x 2 columns]"
      ]
     },
     "execution_count": 6,
     "metadata": {},
     "output_type": "execute_result"
    }
   ],
   "source": [
    "df"
   ]
  },
  {
   "cell_type": "markdown",
   "id": "e70a8ba9",
   "metadata": {},
   "source": [
    "### Plot to see the distribution of humor and non-humor texts"
   ]
  },
  {
   "cell_type": "code",
   "execution_count": 7,
   "id": "f2363d5c",
   "metadata": {},
   "outputs": [
    {
     "data": {
      "image/png": "[encoded data removed]",
      "text/plain": [
       "<Figure size 640x480 with 1 Axes>"
      ]
     },
     "metadata": {},
     "output_type": "display_data"
    }
   ],
   "source": [
    "value_counts = df['humor'].value_counts()\n",
    "\n",
    "plt.bar(value_counts.index, value_counts.values)\n",
    "plt.xticks([0, 1])\n",
    "plt.xlabel('Values')\n",
    "plt.ylabel('Count')\n",
    "plt.title('Number of Zeros and Ones')\n",
    "plt.show()"
   ]
  },
  {
   "cell_type": "markdown",
   "id": "ea2dcf49",
   "metadata": {},
   "source": [
    "### Splitting Data into training, testing and validation sets"
   ]
  },
  {
   "cell_type": "code",
   "execution_count": 8,
   "id": "c89a7c70",
   "metadata": {},
   "outputs": [],
   "source": [
    "train_text, val_text, train_labels, val_labels = train_test_split(df['text'], df['humor'], test_size=0.1)"
   ]
  },
  {
   "cell_type": "markdown",
   "id": "db527809",
   "metadata": {},
   "source": [
    "### Length Distribution"
   ]
  },
  {
   "cell_type": "code",
   "execution_count": 9,
   "id": "724ba525",
   "metadata": {},
   "outputs": [
    {
     "name": "stderr",
     "output_type": "stream",
     "text": [
      "/share/pkg.8/python3/3.10.12/install/lib/python3.10/site-packages/seaborn/_oldcore.py:1498: FutureWarning: is_categorical_dtype is deprecated and will be removed in a future version. Use isinstance(dtype, CategoricalDtype) instead\n",
      "  if pd.api.types.is_categorical_dtype(vector):\n",
      "/share/pkg.8/python3/3.10.12/install/lib/python3.10/site-packages/seaborn/_oldcore.py:1119: FutureWarning: use_inf_as_na option is deprecated and will be removed in a future version. Convert inf values to NaN before operating instead.\n",
      "  with pd.option_context('mode.use_inf_as_na', True):\n"
     ]
    },
    {
     "data": {
      "text/plain": [
       "<Axes: xlabel='text', ylabel='Count'>"
      ]
     },
     "execution_count": 9,
     "metadata": {},
     "output_type": "execute_result"
    },
    {
     "data": {
      "image/png": "[encoded data removed]",
      "text/plain": [
       "<Figure size 640x480 with 1 Axes>"
      ]
     },
     "metadata": {},
     "output_type": "display_data"
    }
   ],
   "source": [
    "sns.histplot(train_text.apply(lambda x : len(x)))"
   ]
  },
  {
   "cell_type": "code",
   "execution_count": null,
   "id": "48cab89c",
   "metadata": {},
   "outputs": [],
   "source": []
  },
  {
   "cell_type": "markdown",
   "id": "7009c62f",
   "metadata": {},
   "source": [
    "### Import BERT"
   ]
  },
  {
   "cell_type": "code",
   "execution_count": 10,
   "id": "1c5d2fa7",
   "metadata": {},
   "outputs": [],
   "source": [
    "\n",
    "tokenizer = BertTokenizerFast.from_pretrained('bert-base-uncased')\n"
   ]
  },
  {
   "cell_type": "markdown",
   "id": "6b10d242",
   "metadata": {},
   "source": [
    "### Padding/ Truncating sequences"
   ]
  },
  {
   "cell_type": "code",
   "execution_count": 11,
   "id": "7728e4c0",
   "metadata": {},
   "outputs": [],
   "source": [
    "train = tokenizer.batch_encode_plus(\n",
    "    train_text.tolist(),\n",
    "    padding='longest',\n",
    "    truncation=True\n",
    ")\n",
    "\n",
    "\n",
    "val = tokenizer.batch_encode_plus(\n",
    "    val_text.tolist(),\n",
    "    padding='longest',\n",
    "    truncation=True\n",
    ")"
   ]
  },
  {
   "cell_type": "code",
   "execution_count": 12,
   "id": "e7aaa298",
   "metadata": {},
   "outputs": [],
   "source": [
    "# test=tokenizer.batch_encode_plus(\n",
    "#     test_text.tolist(),\n",
    "#     padding='longest',\n",
    "#     truncation=True\n",
    "# )"
   ]
  },
  {
   "cell_type": "markdown",
   "id": "63589ca3",
   "metadata": {},
   "source": [
    "### Dataset and Data Loaders"
   ]
  },
  {
   "cell_type": "code",
   "execution_count": 13,
   "id": "4655dac3",
   "metadata": {},
   "outputs": [],
   "source": [
    "train_seq = torch.tensor(train['input_ids'])\n",
    "train_mask = torch.tensor(train['attention_mask'])\n",
    "train_y = torch.tensor(train_labels.tolist())\n",
    "\n",
    "val_seq = torch.tensor(val['input_ids'])\n",
    "val_mask = torch.tensor(val['attention_mask'])\n",
    "val_y = torch.tensor(val_labels.tolist())\n",
    "\n"
   ]
  },
  {
   "cell_type": "code",
   "execution_count": 14,
   "id": "f0690afe",
   "metadata": {},
   "outputs": [],
   "source": [
    "# test_seq = torch.tensor(test['input_ids'])\n",
    "# test_mask = torch.tensor(test['attention_mask'])\n",
    "# test_y = torch.tensor(test_labels.tolist())"
   ]
  },
  {
   "cell_type": "code",
   "execution_count": 15,
   "id": "dd8a7daa",
   "metadata": {},
   "outputs": [],
   "source": [
    "batch_size = 64\n",
    "\n",
    "train_ds = TensorDataset(train_seq, train_mask, train_y)\n",
    "train_dataloader =   DataLoader(train_ds, batch_size = batch_size, shuffle = False)\n",
    "\n",
    "\n",
    "val_ds = TensorDataset(val_seq, val_mask, val_y)\n",
    "val_dataloader =  DataLoader(val_ds, batch_size = batch_size, shuffle = False)"
   ]
  },
  {
   "cell_type": "code",
   "execution_count": 16,
   "id": "05d5d2dc",
   "metadata": {},
   "outputs": [],
   "source": [
    "# test_ds=TensorDataset(test_seq, test_mask, test_y)\n",
    "# test_dataloader =   DataLoader(test_ds, batch_size=batch_size, shuffle=False)\n"
   ]
  },
  {
   "cell_type": "code",
   "execution_count": 17,
   "id": "8c2c8246",
   "metadata": {},
   "outputs": [
    {
     "name": "stderr",
     "output_type": "stream",
     "text": [
      "Some weights of the model checkpoint at bert-base-uncased were not used when initializing BertForSequenceClassification: ['cls.predictions.transform.dense.bias', 'cls.predictions.transform.LayerNorm.weight', 'cls.seq_relationship.weight', 'cls.predictions.transform.LayerNorm.bias', 'cls.predictions.transform.dense.weight', 'cls.seq_relationship.bias', 'cls.predictions.bias', 'cls.predictions.decoder.weight']\n",
      "- This IS expected if you are initializing BertForSequenceClassification from the checkpoint of a model trained on another task or with another architecture (e.g. initializing a BertForSequenceClassification model from a BertForPreTraining model).\n",
      "- This IS NOT expected if you are initializing BertForSequenceClassification from the checkpoint of a model that you expect to be exactly identical (initializing a BertForSequenceClassification model from a BertForSequenceClassification model).\n",
      "Some weights of BertForSequenceClassification were not initialized from the model checkpoint at bert-base-uncased and are newly initialized: ['classifier.weight', 'classifier.bias']\n",
      "You should probably TRAIN this model on a down-stream task to be able to use it for predictions and inference.\n"
     ]
    }
   ],
   "source": [
    "from transformers import BertForSequenceClassification\n",
    "\n",
    "model = BertForSequenceClassification.from_pretrained('bert-base-uncased', num_labels=2)\n"
   ]
  },
  {
   "cell_type": "code",
   "execution_count": 18,
   "id": "27cbc0f6",
   "metadata": {},
   "outputs": [],
   "source": [
    "device = torch.device(\"cuda\" if torch.cuda.is_available() else \"cpu\")\n",
    "\n",
    "model = model.to(device)"
   ]
  },
  {
   "cell_type": "code",
   "execution_count": 20,
   "id": "75f32d15",
   "metadata": {},
   "outputs": [
    {
     "name": "stderr",
     "output_type": "stream",
     "text": [
      "100%|██████████| 2250/2250 [06:48<00:00,  5.50it/s]\n"
     ]
    },
    {
     "name": "stdout",
     "output_type": "stream",
     "text": [
      "Epoch 1, Train Loss: 0.01263422039376423, Val Loss: 0.03861033862439217, Val Accuracy: 0.9884375\n"
     ]
    },
    {
     "name": "stderr",
     "output_type": "stream",
     "text": [
      "100%|██████████| 2250/2250 [06:49<00:00,  5.50it/s]\n"
     ]
    },
    {
     "name": "stdout",
     "output_type": "stream",
     "text": [
      "Epoch 2, Train Loss: 0.00643079150048935, Val Loss: 0.08834215437510283, Val Accuracy: 0.981625\n"
     ]
    }
   ],
   "source": [
    "from tqdm import tqdm\n",
    "from torch.optim import AdamW\n",
    "\n",
    "optimizer = AdamW(model.parameters(), lr=2e-5)\n",
    "loss_function = nn.CrossEntropyLoss()\n",
    "\n",
    "def train(model, dataloader):\n",
    "    model.train()\n",
    "    total_loss = 0\n",
    "    for batch in tqdm(dataloader, total=len(dataloader)):\n",
    "        batch = [r.to(device) for r in batch]\n",
    "        inputs, masks, labels = batch\n",
    "        model.zero_grad()\n",
    "\n",
    "        outputs = model(inputs, attention_mask=masks)\n",
    "        logits = outputs.logits\n",
    "        loss = loss_function(logits, labels)\n",
    "        total_loss += loss.item()\n",
    "\n",
    "        loss.backward()\n",
    "        optimizer.step()\n",
    "    \n",
    "    return total_loss / len(dataloader)\n",
    "    \n",
    "def evaluate(model, dataloader):\n",
    "    model.eval()\n",
    "    total_loss = 0\n",
    "    correct_predictions = 0\n",
    "    total_predictions = 0\n",
    "\n",
    "    with torch.no_grad():\n",
    "        for batch in dataloader:\n",
    "            batch = [r.to(device) for r in batch]\n",
    "            inputs, masks, labels = batch\n",
    "\n",
    "            outputs = model(inputs, attention_mask=masks)\n",
    "            logits = outputs.logits\n",
    "            loss = loss_function(logits, labels)\n",
    "            total_loss += loss.item()\n",
    "\n",
    "            predictions = torch.argmax(logits, dim=1)\n",
    "            correct_predictions += (predictions == labels).sum().item()\n",
    "            total_predictions += labels.size(0)\n",
    "\n",
    "    accuracy = correct_predictions / total_predictions\n",
    "    average_loss = total_loss / len(dataloader)\n",
    "    return average_loss, accuracy\n",
    "\n",
    "epochs = 2\n",
    "\n",
    "for epoch in range(epochs):\n",
    "    train_loss = train(model, train_dataloader)\n",
    "    val_loss, val_accuracy = evaluate(model, val_dataloader)\n",
    "    print(f'Epoch {epoch+1}, Train Loss: {train_loss}, Val Loss: {val_loss}, Val Accuracy: {val_accuracy}')\n",
    "    "
   ]
  },
  {
   "cell_type": "code",
   "execution_count": 21,
   "id": "5c4b9341",
   "metadata": {},
   "outputs": [],
   "source": [
    "MODEL_PATH = 'models/model1.pt'\n",
    "\n",
    "torch.save(model.state_dict(), MODEL_PATH)"
   ]
  },
  {
   "cell_type": "code",
   "execution_count": null,
   "id": "0f82edc5",
   "metadata": {},
   "outputs": [],
   "source": [
    "# def evaluate_accuracy(model, dataloader):\n",
    "#     model.eval()\n",
    "#     correct_predictions = 0\n",
    "#     total_predictions = 0\n",
    "\n",
    "#     with torch.no_grad():\n",
    "#         for batch in dataloader:\n",
    "#             batch = [r.to(device) for r in batch]\n",
    "#             inputs, masks, labels = batch\n",
    "\n",
    "#             outputs = model(inputs, attention_mask=masks)\n",
    "#             logits = outputs.logits\n",
    "#             predictions = torch.argmax(logits, dim=1)\n",
    "\n",
    "#             correct_predictions += (predictions == labels).sum().item()\n",
    "#             total_predictions += labels.size(0)\n",
    "\n",
    "#     accuracy = correct_predictions / total_predictions\n",
    "#     return accuracy\n",
    "\n",
    "# # Calculate test accuracy\n",
    "# test_accuracy = evaluate_accuracy(model, test_dataloader)\n",
    "# print(f'Test Accuracy: {test_accuracy}')\n"
   ]
  },
  {
   "cell_type": "code",
   "execution_count": null,
   "id": "d8751587",
   "metadata": {},
   "outputs": [],
   "source": []
  },
  {
   "cell_type": "markdown",
   "id": "609a043c",
   "metadata": {},
   "source": [
    "# TESTING SCRIPT"
   ]
  },
  {
   "cell_type": "code",
   "execution_count": 22,
   "id": "a5a89573",
   "metadata": {},
   "outputs": [
    {
     "name": "stderr",
     "output_type": "stream",
     "text": [
      "Some weights of the model checkpoint at bert-base-uncased were not used when initializing BertForSequenceClassification: ['cls.predictions.transform.dense.bias', 'cls.predictions.transform.LayerNorm.weight', 'cls.seq_relationship.weight', 'cls.predictions.transform.LayerNorm.bias', 'cls.predictions.transform.dense.weight', 'cls.seq_relationship.bias', 'cls.predictions.bias', 'cls.predictions.decoder.weight']\n",
      "- This IS expected if you are initializing BertForSequenceClassification from the checkpoint of a model trained on another task or with another architecture (e.g. initializing a BertForSequenceClassification model from a BertForPreTraining model).\n",
      "- This IS NOT expected if you are initializing BertForSequenceClassification from the checkpoint of a model that you expect to be exactly identical (initializing a BertForSequenceClassification model from a BertForSequenceClassification model).\n",
      "Some weights of BertForSequenceClassification were not initialized from the model checkpoint at bert-base-uncased and are newly initialized: ['classifier.weight', 'classifier.bias']\n",
      "You should probably TRAIN this model on a down-stream task to be able to use it for predictions and inference.\n"
     ]
    }
   ],
   "source": [
    "test_df = pd.read_csv('dev.csv')\n",
    "test_df['humor'] = test_df['humor'].astype(int)\n",
    "\n",
    "test_text = test_df.text\n",
    "test_labels = test_df['humor'].values\n",
    "\n",
    "tokenizer = BertTokenizerFast.from_pretrained('bert-base-uncased')\n",
    "\n",
    "test=tokenizer.batch_encode_plus(\n",
    "    test_text.tolist(),\n",
    "    padding='longest',\n",
    "    truncation=True\n",
    ")\n",
    "\n",
    "test_seq = torch.tensor(test['input_ids'])\n",
    "test_mask = torch.tensor(test['attention_mask'])\n",
    "test_y = torch.tensor(test_labels.tolist())\n",
    "\n",
    "test_ds = TensorDataset(test_seq, test_mask, test_y)\n",
    "\n",
    "test_dataloader = DataLoader(test_ds, batch_size=64, shuffle=False)\n",
    "\n",
    "\n",
    "model = BertForSequenceClassification.from_pretrained('bert-base-uncased', num_labels=2)\n",
    "\n",
    "device = torch.device(\"cuda\" if torch.cuda.is_available() else \"cpu\")\n",
    "\n",
    "model = model.to(device)"
   ]
  },
  {
   "cell_type": "code",
   "execution_count": 23,
   "id": "3b4f624f",
   "metadata": {},
   "outputs": [
    {
     "data": {
      "text/plain": [
       "BertForSequenceClassification(\n",
       "  (bert): BertModel(\n",
       "    (embeddings): BertEmbeddings(\n",
       "      (word_embeddings): Embedding(30522, 768, padding_idx=0)\n",
       "      (position_embeddings): Embedding(512, 768)\n",
       "      (token_type_embeddings): Embedding(2, 768)\n",
       "      (LayerNorm): LayerNorm((768,), eps=1e-12, elementwise_affine=True)\n",
       "      (dropout): Dropout(p=0.1, inplace=False)\n",
       "    )\n",
       "    (encoder): BertEncoder(\n",
       "      (layer): ModuleList(\n",
       "        (0-11): 12 x BertLayer(\n",
       "          (attention): BertAttention(\n",
       "            (self): BertSelfAttention(\n",
       "              (query): Linear(in_features=768, out_features=768, bias=True)\n",
       "              (key): Linear(in_features=768, out_features=768, bias=True)\n",
       "              (value): Linear(in_features=768, out_features=768, bias=True)\n",
       "              (dropout): Dropout(p=0.1, inplace=False)\n",
       "            )\n",
       "            (output): BertSelfOutput(\n",
       "              (dense): Linear(in_features=768, out_features=768, bias=True)\n",
       "              (LayerNorm): LayerNorm((768,), eps=1e-12, elementwise_affine=True)\n",
       "              (dropout): Dropout(p=0.1, inplace=False)\n",
       "            )\n",
       "          )\n",
       "          (intermediate): BertIntermediate(\n",
       "            (dense): Linear(in_features=768, out_features=3072, bias=True)\n",
       "            (intermediate_act_fn): GELUActivation()\n",
       "          )\n",
       "          (output): BertOutput(\n",
       "            (dense): Linear(in_features=3072, out_features=768, bias=True)\n",
       "            (LayerNorm): LayerNorm((768,), eps=1e-12, elementwise_affine=True)\n",
       "            (dropout): Dropout(p=0.1, inplace=False)\n",
       "          )\n",
       "        )\n",
       "      )\n",
       "    )\n",
       "    (pooler): BertPooler(\n",
       "      (dense): Linear(in_features=768, out_features=768, bias=True)\n",
       "      (activation): Tanh()\n",
       "    )\n",
       "  )\n",
       "  (dropout): Dropout(p=0.1, inplace=False)\n",
       "  (classifier): Linear(in_features=768, out_features=2, bias=True)\n",
       ")"
      ]
     },
     "execution_count": 23,
     "metadata": {},
     "output_type": "execute_result"
    }
   ],
   "source": [
    "MODEL_PATH = 'models/model1.pt'\n",
    "\n",
    "model.load_state_dict(torch.load(MODEL_PATH))\n",
    "model.eval()"
   ]
  },
  {
   "cell_type": "code",
   "execution_count": 24,
   "id": "96f3d678",
   "metadata": {},
   "outputs": [
    {
     "name": "stdout",
     "output_type": "stream",
     "text": [
      "Test Accuracy: 0.978025\n"
     ]
    }
   ],
   "source": [
    "def evaluate_accuracy(model, dataloader):\n",
    "    model.eval()\n",
    "    correct_predictions = 0\n",
    "    total_predictions = 0\n",
    "\n",
    "    with torch.no_grad():\n",
    "        for batch in dataloader:\n",
    "            batch = [r.to(device) for r in batch]\n",
    "            inputs, masks, labels = batch\n",
    "\n",
    "            outputs = model(inputs, attention_mask=masks)\n",
    "            logits = outputs.logits\n",
    "            predictions = torch.argmax(logits, dim=1)\n",
    "\n",
    "            correct_predictions += (predictions == labels).sum().item()\n",
    "            total_predictions += labels.size(0)\n",
    "\n",
    "    accuracy = correct_predictions / total_predictions\n",
    "    return accuracy\n",
    "\n",
    "# Calculate test accuracy\n",
    "test_accuracy = evaluate_accuracy(model, test_dataloader)\n",
    "print(f'Test Accuracy: {test_accuracy}')\n"
   ]
  },
  {
   "cell_type": "code",
   "execution_count": 25,
   "id": "50e79097",
   "metadata": {},
   "outputs": [
    {
     "name": "stdout",
     "output_type": "stream",
     "text": [
      "Test Accuracy: 0.978025\n",
      "              precision    recall  f1-score   support\n",
      "\n",
      "       Humor       0.96      1.00      0.98     19918\n",
      "         Not       1.00      0.96      0.98     20082\n",
      "\n",
      "    accuracy                           0.98     40000\n",
      "   macro avg       0.98      0.98      0.98     40000\n",
      "weighted avg       0.98      0.98      0.98     40000\n",
      "\n"
     ]
    }
   ],
   "source": [
    "\n",
    "def evaluate_model(model, dataloader):\n",
    "    model.eval()\n",
    "    correct_predictions = 0\n",
    "    total_predictions = 0\n",
    "\n",
    "    all_labels = []\n",
    "    all_predictions = []\n",
    "\n",
    "    with torch.no_grad():\n",
    "        for batch in dataloader:\n",
    "            batch = [r.to(device) for r in batch]\n",
    "            inputs, masks, labels = batch\n",
    "\n",
    "            outputs = model(inputs, attention_mask=masks)\n",
    "            logits = outputs.logits\n",
    "            predictions = torch.argmax(logits, dim=1)\n",
    "\n",
    "            correct_predictions += (predictions == labels).sum().item()\n",
    "            total_predictions += labels.size(0)\n",
    "\n",
    "            all_labels.extend(labels.cpu().numpy())\n",
    "            all_predictions.extend(predictions.cpu().numpy())\n",
    "\n",
    "    accuracy = correct_predictions / total_predictions\n",
    "    report = classification_report(all_labels, all_predictions, target_names=['Humor', 'Not'])  # replace YOUR_TARGET_NAMES with the list of class names\n",
    "    return accuracy, report\n",
    "\n",
    "# Calculate test accuracy and classification report\n",
    "test_accuracy, test_report = evaluate_model(model, test_dataloader)\n",
    "print(f'Test Accuracy: {test_accuracy}')\n",
    "print(test_report)\n"
   ]
  },
  {
   "cell_type": "code",
   "execution_count": null,
   "id": "a9ab9a7c",
   "metadata": {},
   "outputs": [],
   "source": [
    "#ELEKTRA \n",
    "\n"
   ]
  },
  {
   "cell_type": "markdown",
   "id": "13346337",
   "metadata": {},
   "source": [
    "# INFERENCE SCRIPT"
   ]
  },
  {
   "cell_type": "code",
   "execution_count": 26,
   "id": "7fa4a2bd",
   "metadata": {},
   "outputs": [
    {
     "name": "stderr",
     "output_type": "stream",
     "text": [
      "Some weights of the model checkpoint at bert-base-uncased were not used when initializing BertForSequenceClassification: ['cls.predictions.transform.dense.bias', 'cls.predictions.transform.LayerNorm.weight', 'cls.seq_relationship.weight', 'cls.predictions.transform.LayerNorm.bias', 'cls.predictions.transform.dense.weight', 'cls.seq_relationship.bias', 'cls.predictions.bias', 'cls.predictions.decoder.weight']\n",
      "- This IS expected if you are initializing BertForSequenceClassification from the checkpoint of a model trained on another task or with another architecture (e.g. initializing a BertForSequenceClassification model from a BertForPreTraining model).\n",
      "- This IS NOT expected if you are initializing BertForSequenceClassification from the checkpoint of a model that you expect to be exactly identical (initializing a BertForSequenceClassification model from a BertForSequenceClassification model).\n",
      "Some weights of BertForSequenceClassification were not initialized from the model checkpoint at bert-base-uncased and are newly initialized: ['classifier.weight', 'classifier.bias']\n",
      "You should probably TRAIN this model on a down-stream task to be able to use it for predictions and inference.\n"
     ]
    }
   ],
   "source": [
    "test_df = pd.read_csv('test.csv')\n",
    "test_text = test_df.text\n",
    "\n",
    "tokenizer = BertTokenizerFast.from_pretrained('bert-base-uncased')\n",
    "\n",
    "test=tokenizer.batch_encode_plus(\n",
    "    test_text.tolist(),\n",
    "    padding='longest',\n",
    "    truncation=True\n",
    ")\n",
    "\n",
    "test_seq = torch.tensor(test['input_ids'])\n",
    "test_mask = torch.tensor(test['attention_mask'])\n",
    "\n",
    "test_ds = TensorDataset(test_seq, test_mask)\n",
    "\n",
    "test_dataloader = DataLoader(test_ds, batch_size=64, shuffle=False)\n",
    "\n",
    "\n",
    "model = BertForSequenceClassification.from_pretrained('bert-base-uncased', num_labels=2)\n",
    "\n",
    "device = torch.device(\"cuda\" if torch.cuda.is_available() else \"cpu\")\n",
    "\n",
    "model = model.to(device)"
   ]
  },
  {
   "cell_type": "code",
   "execution_count": 27,
   "id": "2c05b1c8",
   "metadata": {},
   "outputs": [
    {
     "data": {
      "text/plain": [
       "BertForSequenceClassification(\n",
       "  (bert): BertModel(\n",
       "    (embeddings): BertEmbeddings(\n",
       "      (word_embeddings): Embedding(30522, 768, padding_idx=0)\n",
       "      (position_embeddings): Embedding(512, 768)\n",
       "      (token_type_embeddings): Embedding(2, 768)\n",
       "      (LayerNorm): LayerNorm((768,), eps=1e-12, elementwise_affine=True)\n",
       "      (dropout): Dropout(p=0.1, inplace=False)\n",
       "    )\n",
       "    (encoder): BertEncoder(\n",
       "      (layer): ModuleList(\n",
       "        (0-11): 12 x BertLayer(\n",
       "          (attention): BertAttention(\n",
       "            (self): BertSelfAttention(\n",
       "              (query): Linear(in_features=768, out_features=768, bias=True)\n",
       "              (key): Linear(in_features=768, out_features=768, bias=True)\n",
       "              (value): Linear(in_features=768, out_features=768, bias=True)\n",
       "              (dropout): Dropout(p=0.1, inplace=False)\n",
       "            )\n",
       "            (output): BertSelfOutput(\n",
       "              (dense): Linear(in_features=768, out_features=768, bias=True)\n",
       "              (LayerNorm): LayerNorm((768,), eps=1e-12, elementwise_affine=True)\n",
       "              (dropout): Dropout(p=0.1, inplace=False)\n",
       "            )\n",
       "          )\n",
       "          (intermediate): BertIntermediate(\n",
       "            (dense): Linear(in_features=768, out_features=3072, bias=True)\n",
       "            (intermediate_act_fn): GELUActivation()\n",
       "          )\n",
       "          (output): BertOutput(\n",
       "            (dense): Linear(in_features=3072, out_features=768, bias=True)\n",
       "            (LayerNorm): LayerNorm((768,), eps=1e-12, elementwise_affine=True)\n",
       "            (dropout): Dropout(p=0.1, inplace=False)\n",
       "          )\n",
       "        )\n",
       "      )\n",
       "    )\n",
       "    (pooler): BertPooler(\n",
       "      (dense): Linear(in_features=768, out_features=768, bias=True)\n",
       "      (activation): Tanh()\n",
       "    )\n",
       "  )\n",
       "  (dropout): Dropout(p=0.1, inplace=False)\n",
       "  (classifier): Linear(in_features=768, out_features=2, bias=True)\n",
       ")"
      ]
     },
     "execution_count": 27,
     "metadata": {},
     "output_type": "execute_result"
    }
   ],
   "source": [
    "MODEL_PATH = 'models/model1.pt'\n",
    "\n",
    "model.load_state_dict(torch.load(MODEL_PATH))\n",
    "model.eval()"
   ]
  },
  {
   "cell_type": "code",
   "execution_count": 28,
   "id": "ed3c76b8",
   "metadata": {},
   "outputs": [],
   "source": [
    "\n",
    "def return_predictions(model, dataloader):\n",
    "    model.eval()\n",
    "    \n",
    "    predictions = []\n",
    "    \n",
    "    with torch.no_grad():\n",
    "        for batch in dataloader:\n",
    "            batch = [r.to(device) for r in batch]\n",
    "            inputs, masks = batch\n",
    "    \n",
    "            outputs = model(inputs, attention_mask = masks)\n",
    "            logits = outputs.logits\n",
    "            predictions.extend([x.item() for x in torch.argmax(logits, dim=1)])\n",
    "            \n",
    "    return predictions\n"
   ]
  },
  {
   "cell_type": "code",
   "execution_count": 29,
   "id": "1de99186",
   "metadata": {},
   "outputs": [],
   "source": [
    "predictions = return_predictions(model, test_dataloader)"
   ]
  },
  {
   "cell_type": "code",
   "execution_count": 30,
   "id": "ebfeec92",
   "metadata": {},
   "outputs": [
    {
     "data": {
      "text/plain": [
       "[True, True, True, True, False]"
      ]
     },
     "execution_count": 30,
     "metadata": {},
     "output_type": "execute_result"
    }
   ],
   "source": [
    "predictions = list(map(lambda x : True if x == 1 else False, predictions))\n",
    "predictions[:5]"
   ]
  },
  {
   "cell_type": "code",
   "execution_count": null,
   "id": "2dd111aa",
   "metadata": {},
   "outputs": [],
   "source": [
    "################### THE END ################################"
   ]
  },
  {
   "cell_type": "code",
   "execution_count": null,
   "id": "d7166554",
   "metadata": {},
   "outputs": [],
   "source": []
  },
  {
   "cell_type": "code",
   "execution_count": 31,
   "id": "0f7b4700",
   "metadata": {},
   "outputs": [],
   "source": [
    "#### Getting Classification report for the above test file since the true labels for the same are present in the dev file\n",
    "\n",
    "dev_df = pd.read_csv('dev.csv')\n",
    "\n",
    "true_labels = dev_df['humor'].values"
   ]
  },
  {
   "cell_type": "code",
   "execution_count": 32,
   "id": "2cce9af5",
   "metadata": {},
   "outputs": [
    {
     "name": "stdout",
     "output_type": "stream",
     "text": [
      "              precision    recall  f1-score   support\n",
      "\n",
      "       False       0.96      1.00      0.98     19918\n",
      "        True       1.00      0.96      0.98     20082\n",
      "\n",
      "    accuracy                           0.98     40000\n",
      "   macro avg       0.98      0.98      0.98     40000\n",
      "weighted avg       0.98      0.98      0.98     40000\n",
      "\n"
     ]
    }
   ],
   "source": [
    "import numpy as np\n",
    "\n",
    "print(classification_report(true_labels, predictions))"
   ]
  },
  {
   "cell_type": "code",
   "execution_count": 33,
   "id": "d69ff815",
   "metadata": {},
   "outputs": [
    {
     "data": {
      "image/png": "[encoded data removed]",
      "text/plain": [
       "<Figure size 800x600 with 2 Axes>"
      ]
     },
     "metadata": {},
     "output_type": "display_data"
    }
   ],
   "source": [
    "#Elektra \n",
    "\n",
    "# Add Confusion Matrix here\n",
    "from sklearn.metrics import confusion_matrix\n",
    "import seaborn as sns\n",
    "import matplotlib.pyplot as plt\n",
    "\n",
    "# Confusion Matrix\n",
    "conf_matrix = confusion_matrix(true_labels, predictions)\n",
    "\n",
    "# Plotting the Confusion Matrix\n",
    "plt.figure(figsize=(8, 6))\n",
    "sns.heatmap(conf_matrix, annot=True, fmt='g', cmap='Blues')\n",
    "plt.xlabel('Predicted labels')\n",
    "plt.ylabel('True labels')\n",
    "plt.title('Confusion Matrix')\n",
    "plt.show()\n"
   ]
  },
  {
   "cell_type": "code",
   "execution_count": 34,
   "id": "c4c8e818",
   "metadata": {},
   "outputs": [
    {
     "name": "stdout",
     "output_type": "stream",
     "text": [
      "\n",
      "Detailed Analysis of Test Predictions:\n",
      "Text: Do infants have as much fun in infancy as adults do in adultery?\n",
      "True Label: Humor\n",
      "Predicted: Not Humor\n",
      "\n",
      "Text: Why didn't anyone believe the transsexual's confession? it was a case of 'he said, she said'\n",
      "True Label: Humor\n",
      "Predicted: Not Humor\n",
      "\n",
      "Text: Met a hot isis girl jihad me at hello\n",
      "True Label: Humor\n",
      "Predicted: Not Humor\n",
      "\n",
      "Text: The reality is men have no idea what women want... and women have no idea what women want\n",
      "True Label: Humor\n",
      "Predicted: Not Humor\n",
      "\n",
      "Text: When your body is a solid 10 but your intro and conclusion need work\n",
      "True Label: Humor\n",
      "Predicted: Not Humor\n",
      "\n",
      "Text: It's okay, little buddy. mommy cries when her bottle is empty, too.\n",
      "True Label: Humor\n",
      "Predicted: Not Humor\n",
      "\n",
      "Text: Ariana grande looks like she was designed in a lab by japanese perverts\n",
      "True Label: Humor\n",
      "Predicted: Not Humor\n",
      "\n",
      "Text: If you're happy and you know it, share your meds\n",
      "True Label: Humor\n",
      "Predicted: Not Humor\n",
      "\n",
      "Text: Friends don't let friends make harlem shake' videos...\n",
      "True Label: Humor\n",
      "Predicted: Not Humor\n",
      "\n",
      "Text: One out of five dentists has the courage to speak their own mind\n",
      "True Label: Humor\n",
      "Predicted: Not Humor\n",
      "\n"
     ]
    }
   ],
   "source": [
    "#Elektra \n",
    "\n",
    "# Detailed Analysis of Test Predictions\n",
    "print(\"\\nDetailed Analysis of Test Predictions:\")\n",
    "\n",
    "# Find indices where predictions are wrong\n",
    "wrong_preds = np.where(predictions != true_labels)[0]\n",
    "\n",
    "# Display some of these instances\n",
    "for idx in wrong_preds[:10]:  # Adjust the number to display as needed\n",
    "    print(f\"Text: {test_df['text'].iloc[idx]}\")\n",
    "    print(f\"True Label: {'Humor' if true_labels[idx] else 'Not Humor'}\")\n",
    "    print(f\"Predicted: {'Humor' if predictions[idx] else 'Not Humor'}\\n\")\n"
   ]
  },
  {
   "cell_type": "code",
   "execution_count": 35,
   "id": "57eaf5a3",
   "metadata": {},
   "outputs": [
    {
     "name": "stdout",
     "output_type": "stream",
     "text": [
      "Text: 'I had a wonderful day at the office said no one ever.'\n",
      "Predicted as Humorous: Yes\n",
      "\n",
      "Text: 'Great, another Monday.'\n",
      "Predicted as Humorous: Yes\n",
      "\n",
      "Text: 'I’m not arguing, I’m just explaining why I’m right.'\n",
      "Predicted as Humorous: No\n",
      "\n"
     ]
    }
   ],
   "source": [
    "#Elektra - Sanity Checks \n",
    "\n",
    "# Sanity Check with specific examples\n",
    "sanity_check_texts = [\n",
    "    \"I had a wonderful day at the office said no one ever.\",\n",
    "    \"Great, another Monday.\",\n",
    "    \"I’m not arguing, I’m just explaining why I’m right.\",\n",
    "    # Add more texts as needed\n",
    "]\n",
    "\n",
    "# Process these texts through the tokenizer\n",
    "sanity_encoded = tokenizer.batch_encode_plus(\n",
    "    sanity_check_texts,\n",
    "    padding='longest',\n",
    "    truncation=True,\n",
    "    return_tensors='pt'\n",
    ")\n",
    "\n",
    "# Predicting humor in these texts\n",
    "model.eval()\n",
    "with torch.no_grad():\n",
    "    outputs = model(sanity_encoded['input_ids'].to(device), attention_mask=sanity_encoded['attention_mask'].to(device))\n",
    "    predictions = torch.argmax(outputs.logits, dim=1)\n",
    "\n",
    "# Display the results\n",
    "for text, pred in zip(sanity_check_texts, predictions):\n",
    "    print(f\"Text: '{text}'\\nPredicted as Humorous: {'Yes' if pred.item() == 1 else 'No'}\\n\")\n"
   ]
  }
 ],
 "metadata": {
  "kernelspec": {
   "display_name": "Python 3",
   "language": "python",
   "name": "python3"
  },
  "language_info": {
   "codemirror_mode": {
    "name": "ipython",
    "version": 3
   },
   "file_extension": ".py",
   "mimetype": "text/x-python",
   "name": "python",
   "nbconvert_exporter": "python",
   "pygments_lexer": "ipython3",
   "version": "3.8.3"
  }
 },
 "nbformat": 4,
 "nbformat_minor": 5
}
